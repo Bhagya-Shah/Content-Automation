{
 "cells": [
  {
   "cell_type": "code",
   "execution_count": 1,
   "metadata": {},
   "outputs": [
    {
     "name": "stderr",
     "output_type": "stream",
     "text": [
      "[nltk_data] Downloading package punkt to\n",
      "[nltk_data]     C:\\Users\\91932\\AppData\\Roaming\\nltk_data...\n",
      "[nltk_data]   Package punkt is already up-to-date!\n",
      "[nltk_data] Downloading package stopwords to\n",
      "[nltk_data]     C:\\Users\\91932\\AppData\\Roaming\\nltk_data...\n",
      "[nltk_data]   Package stopwords is already up-to-date!\n",
      "[nltk_data] Downloading package averaged_perceptron_tagger to\n",
      "[nltk_data]     C:\\Users\\91932\\AppData\\Roaming\\nltk_data...\n",
      "[nltk_data]   Unzipping taggers\\averaged_perceptron_tagger.zip.\n"
     ]
    },
    {
     "data": {
      "text/plain": [
       "True"
      ]
     },
     "execution_count": 1,
     "metadata": {},
     "output_type": "execute_result"
    }
   ],
   "source": [
    "import nltk\n",
    "nltk.download('punkt')\n",
    "nltk.download('stopwords')\n",
    "nltk.download('averaged_perceptron_tagger')\n"
   ]
  },
  {
   "cell_type": "code",
   "execution_count": 2,
   "metadata": {},
   "outputs": [
    {
     "name": "stdout",
     "output_type": "stream",
     "text": [
      "Keyword: new, Attention: 0.125\n",
      "Keyword: restaurant, Attention: 0.125\n",
      "Keyword: amazing, Attention: 0.125\n",
      "Keyword: food, Attention: 0.125\n",
      "Keyword: friendly, Attention: 0.125\n",
      "Keyword: staff, Attention: 0.125\n",
      "Keyword: delicious, Attention: 0.125\n",
      "Keyword: pizza, Attention: 0.125\n"
     ]
    }
   ],
   "source": [
    "import nltk\n",
    "from nltk.corpus import stopwords\n",
    "from collections import defaultdict\n",
    "\n",
    "def extract_keywords(review):\n",
    "    # Tokenize the review into individual words\n",
    "    words = nltk.word_tokenize(review.lower())\n",
    "\n",
    "    # Filter out stopwords (e.g., \"and\", \"the\", \"is\") from the words\n",
    "    stop_words = set(stopwords.words('english'))\n",
    "    words = [word for word in words if word.isalnum() and word not in stop_words]\n",
    "\n",
    "    # Perform part-of-speech tagging on the words\n",
    "    tagged_words = nltk.pos_tag(words)\n",
    "\n",
    "    # Extract keywords based on specific parts of speech (e.g., nouns, adjectives)\n",
    "    keywords = [word for word, pos in tagged_words if pos.startswith('NN') or pos.startswith('JJ')]\n",
    "\n",
    "    return keywords\n",
    "\n",
    "def calculate_attention(keywords):\n",
    "    # Calculate the frequency of each keyword\n",
    "    keyword_frequency = defaultdict(int)\n",
    "    for keyword in keywords:\n",
    "        keyword_frequency[keyword] += 1\n",
    "\n",
    "    # Calculate attention based on the frequency of each keyword\n",
    "    attention = {keyword: count / len(keywords) for keyword, count in keyword_frequency.items()}\n",
    "\n",
    "    return attention\n",
    "\n",
    "# Example usage\n",
    "review = \"The new restaurant has amazing food and a friendly staff. I highly recommend trying their delicious pizza.\"\n",
    "keywords = extract_keywords(review)\n",
    "attention = calculate_attention(keywords)\n",
    "\n",
    "# Display the keywords and their attention values\n",
    "for keyword, value in attention.items():\n",
    "    print(f\"Keyword: {keyword}, Attention: {value}\")\n"
   ]
  },
  {
   "cell_type": "code",
   "execution_count": null,
   "metadata": {},
   "outputs": [],
   "source": []
  }
 ],
 "metadata": {
  "kernelspec": {
   "display_name": "Python 3",
   "language": "python",
   "name": "python3"
  },
  "language_info": {
   "codemirror_mode": {
    "name": "ipython",
    "version": 3
   },
   "file_extension": ".py",
   "mimetype": "text/x-python",
   "name": "python",
   "nbconvert_exporter": "python",
   "pygments_lexer": "ipython3",
   "version": "3.9.13"
  },
  "orig_nbformat": 4
 },
 "nbformat": 4,
 "nbformat_minor": 2
}
