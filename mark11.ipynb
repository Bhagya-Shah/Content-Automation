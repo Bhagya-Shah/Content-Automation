{
 "cells": [
  {
   "cell_type": "code",
   "execution_count": 1,
   "metadata": {},
   "outputs": [
    {
     "name": "stdout",
     "output_type": "stream",
     "text": [
      "Requirement already satisfied: tensorflow_hub in c:\\users\\91932\\appdata\\local\\packages\\pythonsoftwarefoundation.python.3.9_qbz5n2kfra8p0\\localcache\\local-packages\\python39\\site-packages (0.13.0)\n",
      "Requirement already satisfied: numpy>=1.12.0 in c:\\users\\91932\\appdata\\local\\packages\\pythonsoftwarefoundation.python.3.9_qbz5n2kfra8p0\\localcache\\local-packages\\python39\\site-packages (from tensorflow_hub) (1.23.5)\n",
      "Requirement already satisfied: protobuf>=3.19.6 in c:\\users\\91932\\appdata\\local\\packages\\pythonsoftwarefoundation.python.3.9_qbz5n2kfra8p0\\localcache\\local-packages\\python39\\site-packages (from tensorflow_hub) (3.20.3)\n",
      "Note: you may need to restart the kernel to use updated packages.\n"
     ]
    }
   ],
   "source": [
    "pip install tensorflow_hub"
   ]
  },
  {
   "cell_type": "code",
   "execution_count": 1,
   "metadata": {},
   "outputs": [
    {
     "name": "stdout",
     "output_type": "stream",
     "text": [
      "Note: you may need to restart the kernel to use updated packages.\n"
     ]
    },
    {
     "name": "stderr",
     "output_type": "stream",
     "text": [
      "ERROR: Could not find a version that satisfies the requirement tenserflow (from versions: none)\n",
      "ERROR: No matching distribution found for tenserflow\n"
     ]
    }
   ],
   "source": [
    "pip install tenserflow"
   ]
  },
  {
   "cell_type": "code",
   "execution_count": 3,
   "metadata": {},
   "outputs": [
    {
     "name": "stdout",
     "output_type": "stream",
     "text": [
      "\n",
      "\n",
      "Failed to import tensorflow. Please note that tensorflow is not installed by default when you install tensorflow_hub. This is so that users can decide which tensorflow package to use. To use tensorflow_hub, please install a current version of tensorflow by following the instructions at https://tensorflow.org/install and https://tensorflow.org/hub/installation.\n",
      "\n",
      "\n"
     ]
    },
    {
     "ename": "ModuleNotFoundError",
     "evalue": "No module named 'tensorflow'",
     "output_type": "error",
     "traceback": [
      "\u001b[1;31m---------------------------------------------------------------------------\u001b[0m",
      "\u001b[1;31mModuleNotFoundError\u001b[0m                       Traceback (most recent call last)",
      "Cell \u001b[1;32mIn[3], line 1\u001b[0m\n\u001b[1;32m----> 1\u001b[0m \u001b[39mimport\u001b[39;00m \u001b[39mtensorflow_hub\u001b[39;00m \u001b[39mas\u001b[39;00m \u001b[39mhub\u001b[39;00m\n\u001b[0;32m      2\u001b[0m \u001b[39mimport\u001b[39;00m \u001b[39mnumpy\u001b[39;00m \u001b[39mas\u001b[39;00m \u001b[39mnp\u001b[39;00m\n\u001b[0;32m      4\u001b[0m \u001b[39mdef\u001b[39;00m \u001b[39mcalculate_similarity\u001b[39m(review, responses):\n\u001b[0;32m      5\u001b[0m     \u001b[39m# Load pre-trained Universal Sentence Encoder model\u001b[39;00m\n",
      "File \u001b[1;32m~\\AppData\\Local\\Packages\\PythonSoftwareFoundation.Python.3.9_qbz5n2kfra8p0\\LocalCache\\local-packages\\Python39\\site-packages\\tensorflow_hub\\__init__.py:85\u001b[0m\n\u001b[0;32m     74\u001b[0m   \u001b[39mif\u001b[39;00m (parse_version(tf\u001b[39m.\u001b[39m__version__) \u001b[39m<\u001b[39m\n\u001b[0;32m     75\u001b[0m       parse_version(required_tensorflow_version)):\n\u001b[0;32m     76\u001b[0m     \u001b[39mraise\u001b[39;00m \u001b[39mImportError\u001b[39;00m(\n\u001b[0;32m     77\u001b[0m         \u001b[39m\"\u001b[39m\u001b[39m\\n\u001b[39;00m\u001b[39m\\n\u001b[39;00m\u001b[39mThis version of tensorflow_hub requires tensorflow \u001b[39m\u001b[39m\"\u001b[39m\n\u001b[0;32m     78\u001b[0m         \u001b[39m\"\u001b[39m\u001b[39mversion >= \u001b[39m\u001b[39m{required}\u001b[39;00m\u001b[39m; Detected an installation of version \u001b[39m\u001b[39m{present}\u001b[39;00m\u001b[39m. \u001b[39m\u001b[39m\"\u001b[39m\n\u001b[1;32m   (...)\u001b[0m\n\u001b[0;32m     82\u001b[0m             required\u001b[39m=\u001b[39mrequired_tensorflow_version,\n\u001b[0;32m     83\u001b[0m             present\u001b[39m=\u001b[39mtf\u001b[39m.\u001b[39m__version__))\n\u001b[1;32m---> 85\u001b[0m _ensure_tf_install()\n\u001b[0;32m     88\u001b[0m \u001b[39m# pylint: disable=g-import-not-at-top\u001b[39;00m\n\u001b[0;32m     89\u001b[0m \u001b[39m# pylint: disable=g-bad-import-order\u001b[39;00m\n\u001b[0;32m     90\u001b[0m \u001b[39mfrom\u001b[39;00m \u001b[39mtensorflow_hub\u001b[39;00m\u001b[39m.\u001b[39;00m\u001b[39mestimator\u001b[39;00m \u001b[39mimport\u001b[39;00m LatestModuleExporter\n",
      "File \u001b[1;32m~\\AppData\\Local\\Packages\\PythonSoftwareFoundation.Python.3.9_qbz5n2kfra8p0\\LocalCache\\local-packages\\Python39\\site-packages\\tensorflow_hub\\__init__.py:49\u001b[0m, in \u001b[0;36m_ensure_tf_install\u001b[1;34m()\u001b[0m\n\u001b[0;32m     42\u001b[0m \u001b[39m\"\"\"Attempt to import tensorflow, and ensure its version is sufficient.\u001b[39;00m\n\u001b[0;32m     43\u001b[0m \n\u001b[0;32m     44\u001b[0m \u001b[39mRaises:\u001b[39;00m\n\u001b[0;32m     45\u001b[0m \u001b[39m  ImportError: if either tensorflow is not importable or its version is\u001b[39;00m\n\u001b[0;32m     46\u001b[0m \u001b[39m  inadequate.\u001b[39;00m\n\u001b[0;32m     47\u001b[0m \u001b[39m\"\"\"\u001b[39;00m\n\u001b[0;32m     48\u001b[0m \u001b[39mtry\u001b[39;00m:\n\u001b[1;32m---> 49\u001b[0m   \u001b[39mimport\u001b[39;00m \u001b[39mtensorflow\u001b[39;00m \u001b[39mas\u001b[39;00m \u001b[39mtf\u001b[39;00m\n\u001b[0;32m     50\u001b[0m \u001b[39mexcept\u001b[39;00m \u001b[39mImportError\u001b[39;00m:\n\u001b[0;32m     51\u001b[0m   \u001b[39m# Print more informative error message, then reraise.\u001b[39;00m\n\u001b[0;32m     52\u001b[0m   \u001b[39mprint\u001b[39m(\n\u001b[0;32m     53\u001b[0m       \u001b[39m\"\u001b[39m\u001b[39m\\n\u001b[39;00m\u001b[39m\\n\u001b[39;00m\u001b[39mFailed to import tensorflow. Please note that tensorflow is not \u001b[39m\u001b[39m\"\u001b[39m\n\u001b[0;32m     54\u001b[0m       \u001b[39m\"\u001b[39m\u001b[39minstalled by default when you install tensorflow_hub. This is so that \u001b[39m\u001b[39m\"\u001b[39m\n\u001b[1;32m   (...)\u001b[0m\n\u001b[0;32m     57\u001b[0m       \u001b[39m\"\u001b[39m\u001b[39mby following the instructions at https://tensorflow.org/install and \u001b[39m\u001b[39m\"\u001b[39m\n\u001b[0;32m     58\u001b[0m       \u001b[39m\"\u001b[39m\u001b[39mhttps://tensorflow.org/hub/installation.\u001b[39m\u001b[39m\\n\u001b[39;00m\u001b[39m\\n\u001b[39;00m\u001b[39m\"\u001b[39m)\n",
      "\u001b[1;31mModuleNotFoundError\u001b[0m: No module named 'tensorflow'"
     ]
    }
   ],
   "source": [
    "import tensorflow_hub as hub\n",
    "import numpy as np\n",
    "\n",
    "def calculate_similarity(review, responses):\n",
    "    # Load pre-trained Universal Sentence Encoder model\n",
    "    model = hub.load(\"https://tfhub.dev/google/universal-sentence-encoder-large/5\")\n",
    "\n",
    "    # Encode the review and responses into fixed-length embeddings\n",
    "    review_embedding = model([review])[0]\n",
    "    response_embeddings = model(responses)\n",
    "\n",
    "    # Calculate cosine similarity between the review and each response\n",
    "    similarity_scores = np.inner(review_embedding, response_embeddings)\n",
    "\n",
    "    # Find the index of the response with the highest similarity score\n",
    "    best_match_index = np.argmax(similarity_scores)\n",
    "\n",
    "    return responses[best_match_index]\n",
    "\n",
    "# Example usage\n",
    "review = \"The food was delicious, but the service was slow.\"\n",
    "responses = [\n",
    "    \"We apologize for the slow service. Our chef takes great pride in preparing delicious food.\",\n",
    "    \"Thank you for your feedback. We will address the issue with our service staff.\",\n",
    "    \"We are glad you enjoyed the food. We'll work on improving the service speed.\",\n",
    "]\n",
    "\n",
    "best_response = calculate_similarity(review, responses)\n",
    "\n",
    "print(\"Review:\", review)\n",
    "print(\"Best Response:\", best_response)\n"
   ]
  },
  {
   "cell_type": "code",
   "execution_count": null,
   "metadata": {},
   "outputs": [],
   "source": []
  }
 ],
 "metadata": {
  "kernelspec": {
   "display_name": "Python 3",
   "language": "python",
   "name": "python3"
  },
  "language_info": {
   "codemirror_mode": {
    "name": "ipython",
    "version": 3
   },
   "file_extension": ".py",
   "mimetype": "text/x-python",
   "name": "python",
   "nbconvert_exporter": "python",
   "pygments_lexer": "ipython3",
   "version": "3.9.13"
  },
  "orig_nbformat": 4
 },
 "nbformat": 4,
 "nbformat_minor": 2
}
